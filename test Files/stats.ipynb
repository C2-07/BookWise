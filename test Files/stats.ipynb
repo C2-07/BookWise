{
 "cells": [
  {
   "cell_type": "code",
   "execution_count": null,
   "id": "a59f1663-142d-48fa-bff6-756aa3616ad0",
   "metadata": {},
   "outputs": [],
   "source": [
    "import pandas as pd\n",
    "import matplotlib.pyplot as plt\n",
    "import matplotlib.colors as mcolor\n",
    "import numpy as np\n",
    "from random import choice\n",
    "import configparser\n",
    "import calendar\n",
    "import library"
   ]
  },
  {
   "cell_type": "code",
   "execution_count": null,
   "id": "2a494959-945e-41cf-b65d-9961f3b285aa",
   "metadata": {},
   "outputs": [],
   "source": [
    "config = configparser.ConfigParser()\n",
    "config.read('config.ini')\n",
    "stats = pd.read_csv(\"X:\\Github\\school-project\\csv\\statics.csv\")"
   ]
  },
  {
   "cell_type": "code",
   "execution_count": null,
   "id": "e0d62953",
   "metadata": {},
   "outputs": [],
   "source": [
    "month_name = calendar.month_name[1:]\n",
    "month_color = eval(config['color']['colored_month']) # converting str back to dict\n",
    "def color_picker(values:list = None):\n",
    "    colors = list(mcolor.CSS4_COLORS.keys())\n",
    "    if values:\n",
    "        colored_values = []\n",
    "        for item in values:\n",
    "            item = choice(colors)\n",
    "            colors.remove(item)\n",
    "            colored_values.append(item)\n",
    "            if isinstance(item,str):\n",
    "                return item\n",
    "        return colored_values"
   ]
  },
  {
   "cell_type": "code",
   "execution_count": null,
   "metadata": {},
   "outputs": [],
   "source": [
    "\n"
   ]
  },
  {
   "cell_type": "code",
   "execution_count": null,
   "metadata": {},
   "outputs": [],
   "source": [
    "total = stats['Total']\n",
    "plt.figure(figsize=[14,7])\n",
    "plt.bar(month_name, total, label='Total Revenue' , color= month_color.values())\n",
    "plt.xlabel('Months' , size=14)\n",
    "plt.ylabel('Revenue[₹]' , size=14)\n",
    "plt.show()"
   ]
  },
  {
   "cell_type": "code",
   "execution_count": null,
   "id": "9aa7bf29",
   "metadata": {},
   "outputs": [],
   "source": [
    "def more_detail(choice:str=None , plot_type:str =None):\n",
    "    if values is None or plot_type is None or name is None:\n",
    "        print(f'Please specify Correct {plot_type}, {values},{name}')\n",
    "        return\n",
    "    \n",
    "    if \n",
    "    #if Not None Then Continue    \n",
    "        if plot_type == \"Line-Graph\":\n",
    "            plt.figure(figsize=[14,7])\n",
    "            plt.plot(stats[choice] , label=f'{choice} Revenue' , color='purple')\n",
    "            plt.xlabel('Months' , size=14)\n",
    "            plt.ylabel('Revenue [₹]' , size=14)\n",
    "            plt.xticks( np.arange(0,12), month_name)\n",
    "            plt.legend()\n",
    "            plt.grid(True, which='both', color='black', linewidth=0.4)\n",
    "            plt.show()\n",
    "        \n",
    "        elif plot_type == \"Bar-Graph\":\n",
    "            plt.figure(figsize=[14,7])\n",
    "            plt.bar(month_name, stats[choice], label=f'{choice} Revenue' , color= month_color.values())\n",
    "            plt.xlabel('Months' , size=14)\n",
    "            plt.ylabel('Revenue[₹]' , size=14)\n",
    "            plt.show()"
   ]
  }
 ],
 "metadata": {
  "kernelspec": {
   "display_name": "Python 3 (ipykernel)",
   "language": "python",
   "name": "python3"
  },
  "language_info": {
   "codemirror_mode": {
    "name": "ipython",
    "version": 3
   },
   "file_extension": ".py",
   "mimetype": "text/x-python",
   "name": "python",
   "nbconvert_exporter": "python",
   "pygments_lexer": "ipython3",
   "version": "3.11.3"
  }
 },
 "nbformat": 4,
 "nbformat_minor": 5
}
